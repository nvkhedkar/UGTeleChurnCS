{
 "cells": [
  {
   "cell_type": "code",
   "execution_count": 67,
   "metadata": {},
   "outputs": [],
   "source": [
    "# import libraries\n",
    "import pandas as pd\n",
    "import numpy as np\n",
    "import seaborn as sns\n",
    "import matplotlib.pyplot as plt\n",
    "%matplotlib inline\n",
    "import warnings\n",
    "warnings.filterwarnings(\"ignore\")\n",
    "\n",
    "from sklearn.model_selection import train_test_split, GridSearchCV\n",
    "from sklearn.preprocessing import MinMaxScaler\n",
    "pd.options.display.float_format = '{:,.4f}'.format\n",
    "N_JOBS = 10"
   ]
  },
  {
   "cell_type": "code",
   "execution_count": 2,
   "metadata": {},
   "outputs": [],
   "source": [
    "# Functions\n",
    "def same_columns(dfin):\n",
    "    same_columns = {}\n",
    "    for c in dfin.columns:\n",
    "        if dfin[c].value_counts().shape[0] == 1:\n",
    "            same_columns[c] = list(dfin[c].unique())\n",
    "    return same_columns\n",
    "\n",
    "def find_columns_with_nans(dfin):\n",
    "    _dfnans = pd.DataFrame()\n",
    "    _dfnans['counts'] = dfin[dfin.columns[dfin.isnull().any()]].isnull().sum()\n",
    "    _dfnans['perc'] = 100 * _dfnans['counts'] / dfin.shape[0]\n",
    "    _dfnans = _dfnans.reset_index()\n",
    "    _dfnans['uniq_counts'] = _dfnans['index'].apply(lambda x: len(dfin[x].unique()))\n",
    "    _dfnans['dtype'] = _dfnans['index'].apply(lambda x: dfin[x].dtype)\n",
    "    return _dfnans\n",
    "\n",
    "def drop_columns_with_nans(dfin, perc=40, drop_cols=True):\n",
    "    too_many_nans = dfin[dfin.columns[dfin.isnull().sum() * 100 / dfin.shape[0] > perc]].columns.tolist()\n",
    "    print(f\"Cols with {perc}% or more nans: {len(too_many_nans)}\")\n",
    "    if drop_cols:\n",
    "        dfin = dfin.drop(too_many_nans, axis=1)\n",
    "        print(f\"After dropping: {dfin.shape}\")\n",
    "    return dfin, too_many_nans"
   ]
  },
  {
   "cell_type": "code",
   "execution_count": 3,
   "metadata": {},
   "outputs": [
    {
     "data": {
      "text/plain": [
       "(69999, 172)"
      ]
     },
     "execution_count": 3,
     "metadata": {},
     "output_type": "execute_result"
    }
   ],
   "source": [
    "df = pd.read_csv(\"./train.csv\", low_memory=False)\n",
    "df.shape"
   ]
  },
  {
   "cell_type": "code",
   "execution_count": 4,
   "metadata": {},
   "outputs": [
    {
     "name": "stdout",
     "output_type": "stream",
     "text": [
      "<class 'pandas.core.frame.DataFrame'>\n",
      "RangeIndex: 69999 entries, 0 to 69998\n",
      "Columns: 172 entries, id to churn_probability\n",
      "dtypes: float64(135), int64(28), object(9)\n",
      "memory usage: 91.9+ MB\n"
     ]
    }
   ],
   "source": [
    "df.info()"
   ]
  },
  {
   "cell_type": "code",
   "execution_count": 5,
   "metadata": {},
   "outputs": [
    {
     "name": "stdout",
     "output_type": "stream",
     "text": [
      "id                       :      int64  69999\n",
      "circle_id                :      int64  1\n",
      " - [109]\n",
      "loc_og_t2o_mou           :    float64  2\n",
      " - [ 0. nan]\n",
      "std_og_t2o_mou           :    float64  2\n",
      " - [ 0. nan]\n",
      "loc_ic_t2o_mou           :    float64  2\n",
      " - [ 0. nan]\n",
      "last_date_of_month_6     :     object  1\n",
      " - ['6/30/2014']\n",
      "last_date_of_month_7     :     object  2\n",
      " - ['7/31/2014' nan]\n",
      "last_date_of_month_8     :     object  2\n",
      " - ['8/31/2014' nan]\n",
      "arpu_6                   :    float64  61615\n",
      "arpu_7                   :    float64  61425\n",
      "arpu_8                   :    float64  60194\n",
      "onnet_mou_6              :    float64  20058\n",
      "onnet_mou_7              :    float64  20077\n",
      "onnet_mou_8              :    float64  19726\n",
      "offnet_mou_6             :    float64  26255\n",
      "offnet_mou_7             :    float64  26140\n",
      "offnet_mou_8             :    float64  25996\n",
      "roam_ic_mou_6            :    float64  5307\n",
      "roam_ic_mou_7            :    float64  4241\n",
      "roam_ic_mou_8            :    float64  4253\n",
      "roam_og_mou_6            :    float64  6569\n",
      "roam_og_mou_7            :    float64  5306\n",
      "roam_og_mou_8            :    float64  5216\n",
      "loc_og_t2t_mou_6         :    float64  11492\n",
      "loc_og_t2t_mou_7         :    float64  11360\n",
      "loc_og_t2t_mou_8         :    float64  11297\n",
      "loc_og_t2m_mou_6         :    float64  17849\n",
      "loc_og_t2m_mou_7         :    float64  17642\n",
      "loc_og_t2m_mou_8         :    float64  17617\n",
      "loc_og_t2f_mou_6         :    float64  3377\n",
      "loc_og_t2f_mou_7         :    float64  3366\n",
      "loc_og_t2f_mou_8         :    float64  3312\n",
      "loc_og_t2c_mou_6         :    float64  1946\n",
      "loc_og_t2c_mou_7         :    float64  2104\n",
      "loc_og_t2c_mou_8         :    float64  2205\n",
      "loc_og_mou_6             :    float64  22310\n",
      "loc_og_mou_7             :    float64  22013\n",
      "loc_og_mou_8             :    float64  21951\n",
      "std_og_t2t_mou_6         :    float64  14555\n",
      "std_og_t2t_mou_7         :    float64  14746\n",
      "std_og_t2t_mou_8         :    float64  14484\n",
      "std_og_t2m_mou_6         :    float64  16060\n",
      "std_og_t2m_mou_7         :    float64  16235\n",
      "std_og_t2m_mou_8         :    float64  15969\n",
      "std_og_t2f_mou_6         :    float64  2075\n",
      "std_og_t2f_mou_7         :    float64  1992\n",
      "std_og_t2f_mou_8         :    float64  1946\n",
      "std_og_t2c_mou_6         :    float64  2\n",
      " - [ 0. nan]\n",
      "std_og_t2c_mou_7         :    float64  2\n",
      " - [ 0. nan]\n",
      "std_og_t2c_mou_8         :    float64  2\n",
      " - [ 0. nan]\n",
      "std_og_mou_6             :    float64  21838\n",
      "std_og_mou_7             :    float64  22089\n",
      "std_og_mou_8             :    float64  21746\n",
      "isd_og_mou_6             :    float64  1104\n",
      "isd_og_mou_7             :    float64  1085\n",
      "isd_og_mou_8             :    float64  1009\n",
      "spl_og_mou_6             :    float64  3504\n",
      "spl_og_mou_7             :    float64  3828\n",
      "spl_og_mou_8             :    float64  3849\n",
      "og_others_6              :    float64  915\n",
      "og_others_7              :    float64  149\n",
      "og_others_8              :    float64  180\n",
      "total_og_mou_6           :    float64  33135\n",
      "total_og_mou_7           :    float64  33195\n",
      "total_og_mou_8           :    float64  32897\n",
      "loc_ic_t2t_mou_6         :    float64  11638\n",
      "loc_ic_t2t_mou_7         :    float64  11596\n",
      "loc_ic_t2t_mou_8         :    float64  11447\n",
      "loc_ic_t2m_mou_6         :    float64  19035\n",
      "loc_ic_t2m_mou_7         :    float64  18946\n",
      "loc_ic_t2m_mou_8         :    float64  19023\n",
      "loc_ic_t2f_mou_6         :    float64  6201\n",
      "loc_ic_t2f_mou_7         :    float64  6288\n",
      "loc_ic_t2f_mou_8         :    float64  6093\n",
      "loc_ic_mou_6             :    float64  24443\n",
      "loc_ic_mou_7             :    float64  24259\n",
      "loc_ic_mou_8             :    float64  24183\n",
      "std_ic_t2t_mou_6         :    float64  5324\n",
      "std_ic_t2t_mou_7         :    float64  5480\n",
      "std_ic_t2t_mou_8         :    float64  5368\n",
      "std_ic_t2m_mou_6         :    float64  7932\n",
      "std_ic_t2m_mou_7         :    float64  8034\n",
      "std_ic_t2m_mou_8         :    float64  7907\n",
      "std_ic_t2f_mou_6         :    float64  2625\n",
      "std_ic_t2f_mou_7         :    float64  2696\n",
      "std_ic_t2f_mou_8         :    float64  2584\n",
      "std_ic_t2o_mou_6         :    float64  2\n",
      " - [ 0. nan]\n",
      "std_ic_t2o_mou_7         :    float64  2\n",
      " - [ 0. nan]\n",
      "std_ic_t2o_mou_8         :    float64  2\n",
      " - [ 0. nan]\n",
      "std_ic_mou_6             :    float64  9877\n",
      "std_ic_mou_7             :    float64  10113\n",
      "std_ic_mou_8             :    float64  9940\n",
      "total_ic_mou_6           :    float64  27432\n",
      "total_ic_mou_7           :    float64  27418\n",
      "total_ic_mou_8           :    float64  27318\n",
      "spl_ic_mou_6             :    float64  79\n",
      "spl_ic_mou_7             :    float64  104\n",
      "spl_ic_mou_8             :    float64  96\n",
      "isd_ic_mou_6             :    float64  4422\n",
      "isd_ic_mou_7             :    float64  4641\n",
      "isd_ic_mou_8             :    float64  4695\n",
      "ic_others_6              :    float64  1524\n",
      "ic_others_7              :    float64  1659\n",
      "ic_others_8              :    float64  1566\n",
      "total_rech_num_6         :      int64  94\n",
      "total_rech_num_7         :      int64  96\n",
      "total_rech_num_8         :      int64  92\n",
      "total_rech_amt_6         :      int64  2108\n",
      "total_rech_amt_7         :      int64  2147\n",
      "total_rech_amt_8         :      int64  2149\n",
      "max_rech_amt_6           :      int64  190\n",
      "max_rech_amt_7           :      int64  178\n",
      "max_rech_amt_8           :      int64  202\n",
      "date_of_last_rech_6      :     object  31\n",
      "date_of_last_rech_7      :     object  32\n",
      "date_of_last_rech_8      :     object  32\n",
      "last_day_rch_amt_6       :      int64  179\n",
      "last_day_rch_amt_7       :      int64  166\n",
      "last_day_rch_amt_8       :      int64  191\n",
      "date_of_last_rech_data_6 :     object  31\n",
      "date_of_last_rech_data_7 :     object  32\n",
      "date_of_last_rech_data_8 :     object  32\n",
      "total_rech_data_6        :    float64  37\n",
      "total_rech_data_7        :    float64  42\n",
      "total_rech_data_8        :    float64  45\n",
      "max_rech_data_6          :    float64  48\n",
      "max_rech_data_7          :    float64  46\n",
      "max_rech_data_8          :    float64  50\n",
      "count_rech_2g_6          :    float64  31\n",
      "count_rech_2g_7          :    float64  34\n",
      "count_rech_2g_8          :    float64  34\n",
      "count_rech_3g_6          :    float64  24\n",
      "count_rech_3g_7          :    float64  28\n",
      "count_rech_3g_8          :    float64  30\n",
      "av_rech_amt_data_6       :    float64  793\n",
      "av_rech_amt_data_7       :    float64  838\n",
      "av_rech_amt_data_8       :    float64  856\n",
      "vol_2g_mb_6              :    float64  11494\n",
      "vol_2g_mb_7              :    float64  11443\n",
      "vol_2g_mb_8              :    float64  11359\n",
      "vol_3g_mb_6              :    float64  9768\n",
      "vol_3g_mb_7              :    float64  10296\n",
      "vol_3g_mb_8              :    float64  10663\n",
      "arpu_3g_6                :    float64  5507\n",
      "arpu_3g_7                :    float64  5390\n",
      "arpu_3g_8                :    float64  5817\n",
      "arpu_2g_6                :    float64  5390\n",
      "arpu_2g_7                :    float64  5057\n",
      "arpu_2g_8                :    float64  5133\n",
      "night_pck_user_6         :    float64  3\n",
      " - [nan  0.  1.]\n",
      "night_pck_user_7         :    float64  3\n",
      " - [nan  0.  1.]\n",
      "night_pck_user_8         :    float64  3\n",
      " - [nan  0.  1.]\n",
      "monthly_2g_6             :      int64  5\n",
      " - [0 1 2 3 4]\n",
      "monthly_2g_7             :      int64  6\n",
      " - [0 1 2 4 3 5]\n",
      "monthly_2g_8             :      int64  6\n",
      " - [0 1 2 4 3 5]\n",
      "sachet_2g_6              :      int64  30\n",
      "sachet_2g_7              :      int64  33\n",
      "sachet_2g_8              :      int64  32\n",
      "monthly_3g_6             :      int64  10\n",
      "monthly_3g_7             :      int64  13\n",
      "monthly_3g_8             :      int64  12\n",
      "sachet_3g_6              :      int64  23\n",
      "sachet_3g_7              :      int64  26\n",
      "sachet_3g_8              :      int64  28\n",
      "fb_user_6                :    float64  3\n",
      " - [nan  1.  0.]\n",
      "fb_user_7                :    float64  3\n",
      " - [nan  1.  0.]\n",
      "fb_user_8                :    float64  3\n",
      " - [nan  1.  0.]\n",
      "aon                      :      int64  3455\n",
      "aug_vbc_3g               :    float64  10609\n",
      "jul_vbc_3g               :    float64  10257\n",
      "jun_vbc_3g               :    float64  9617\n",
      "churn_probability        :      int64  2\n",
      " - [0 1]\n"
     ]
    }
   ],
   "source": [
    "for c in df.columns:\n",
    "    print(f'{c.ljust(25)}: {str(df[c].dtype).rjust(10)}  {len(df[c].unique())}')\n",
    "    if len(df[c].unique()) < 7:\n",
    "        print(f' - {df[c].unique()}')"
   ]
  },
  {
   "cell_type": "code",
   "execution_count": 6,
   "metadata": {},
   "outputs": [
    {
     "name": "stdout",
     "output_type": "stream",
     "text": [
      "id 1\n",
      "circle_id 2\n",
      "loc_og_t2o_mou 3\n",
      "std_og_t2o_mou 4\n",
      "loc_ic_t2o_mou 5\n",
      "last_date_of_month 6\n",
      "arpu 7\n",
      "onnet_mou 8\n",
      "offnet_mou 9\n",
      "roam_ic_mou 10\n",
      "roam_og_mou 11\n",
      "loc_og_t2t_mou 12\n",
      "loc_og_t2m_mou 13\n",
      "loc_og_t2f_mou 14\n",
      "loc_og_t2c_mou 15\n",
      "loc_og_mou 16\n",
      "std_og_t2t_mou 17\n",
      "std_og_t2m_mou 18\n",
      "std_og_t2f_mou 19\n",
      "std_og_t2c_mou 20\n",
      "std_og_mou 21\n",
      "isd_og_mou 22\n",
      "spl_og_mou 23\n",
      "og_others 24\n",
      "total_og_mou 25\n",
      "loc_ic_t2t_mou 26\n",
      "loc_ic_t2m_mou 27\n",
      "loc_ic_t2f_mou 28\n",
      "loc_ic_mou 29\n",
      "std_ic_t2t_mou 30\n",
      "std_ic_t2m_mou 31\n",
      "std_ic_t2f_mou 32\n",
      "std_ic_t2o_mou 33\n",
      "std_ic_mou 34\n",
      "total_ic_mou 35\n",
      "spl_ic_mou 36\n",
      "isd_ic_mou 37\n",
      "ic_others 38\n",
      "total_rech_num 39\n",
      "total_rech_amt 40\n",
      "max_rech_amt 41\n",
      "date_of_last_rech 42\n",
      "last_day_rch_amt 43\n",
      "date_of_last_rech_data 44\n",
      "total_rech_data 45\n",
      "max_rech_data 46\n",
      "count_rech_2g 47\n",
      "count_rech_3g 48\n",
      "av_rech_amt_data 49\n",
      "vol_2g_mb 50\n",
      "vol_3g_mb 51\n",
      "arpu_3g 52\n",
      "arpu_2g 53\n",
      "night_pck_user 54\n",
      "monthly_2g 55\n",
      "sachet_2g 56\n",
      "monthly_3g 57\n",
      "sachet_3g 58\n",
      "fb_user 59\n",
      "aon 60\n",
      "aug_vbc_3g 61\n",
      "jul_vbc_3g 62\n",
      "jun_vbc_3g 63\n",
      "churn_probability 64\n"
     ]
    }
   ],
   "source": [
    "col_names_only = []\n",
    "for c in df.columns:\n",
    "    stripped = c\n",
    "    if c.endswith('_6') or c.endswith('_7') or c.endswith('_8'):\n",
    "        stripped = c[:-2]\n",
    "    if stripped not in col_names_only:\n",
    "        col_names_only.append(stripped)\n",
    "        print(stripped, len(col_names_only))"
   ]
  },
  {
   "cell_type": "code",
   "execution_count": 7,
   "metadata": {},
   "outputs": [
    {
     "data": {
      "text/html": [
       "<div>\n",
       "<style scoped>\n",
       "    .dataframe tbody tr th:only-of-type {\n",
       "        vertical-align: middle;\n",
       "    }\n",
       "\n",
       "    .dataframe tbody tr th {\n",
       "        vertical-align: top;\n",
       "    }\n",
       "\n",
       "    .dataframe thead th {\n",
       "        text-align: right;\n",
       "    }\n",
       "</style>\n",
       "<table border=\"1\" class=\"dataframe\">\n",
       "  <thead>\n",
       "    <tr style=\"text-align: right;\">\n",
       "      <th></th>\n",
       "      <th>id</th>\n",
       "      <th>circle_id</th>\n",
       "      <th>loc_og_t2o_mou</th>\n",
       "      <th>std_og_t2o_mou</th>\n",
       "      <th>loc_ic_t2o_mou</th>\n",
       "      <th>last_date_of_month_6</th>\n",
       "      <th>last_date_of_month_7</th>\n",
       "      <th>last_date_of_month_8</th>\n",
       "      <th>arpu_6</th>\n",
       "      <th>arpu_7</th>\n",
       "      <th>...</th>\n",
       "      <th>sachet_3g_7</th>\n",
       "      <th>sachet_3g_8</th>\n",
       "      <th>fb_user_6</th>\n",
       "      <th>fb_user_7</th>\n",
       "      <th>fb_user_8</th>\n",
       "      <th>aon</th>\n",
       "      <th>aug_vbc_3g</th>\n",
       "      <th>jul_vbc_3g</th>\n",
       "      <th>jun_vbc_3g</th>\n",
       "      <th>churn_probability</th>\n",
       "    </tr>\n",
       "  </thead>\n",
       "  <tbody>\n",
       "    <tr>\n",
       "      <th>0</th>\n",
       "      <td>0</td>\n",
       "      <td>109</td>\n",
       "      <td>0.0000</td>\n",
       "      <td>0.0000</td>\n",
       "      <td>0.0000</td>\n",
       "      <td>6/30/2014</td>\n",
       "      <td>7/31/2014</td>\n",
       "      <td>8/31/2014</td>\n",
       "      <td>31.2770</td>\n",
       "      <td>87.0090</td>\n",
       "      <td>...</td>\n",
       "      <td>0</td>\n",
       "      <td>0</td>\n",
       "      <td>nan</td>\n",
       "      <td>nan</td>\n",
       "      <td>nan</td>\n",
       "      <td>1958</td>\n",
       "      <td>0.0000</td>\n",
       "      <td>0.0000</td>\n",
       "      <td>0.0000</td>\n",
       "      <td>0</td>\n",
       "    </tr>\n",
       "    <tr>\n",
       "      <th>1</th>\n",
       "      <td>1</td>\n",
       "      <td>109</td>\n",
       "      <td>0.0000</td>\n",
       "      <td>0.0000</td>\n",
       "      <td>0.0000</td>\n",
       "      <td>6/30/2014</td>\n",
       "      <td>7/31/2014</td>\n",
       "      <td>8/31/2014</td>\n",
       "      <td>0.0000</td>\n",
       "      <td>122.7870</td>\n",
       "      <td>...</td>\n",
       "      <td>0</td>\n",
       "      <td>0</td>\n",
       "      <td>nan</td>\n",
       "      <td>1.0000</td>\n",
       "      <td>nan</td>\n",
       "      <td>710</td>\n",
       "      <td>0.0000</td>\n",
       "      <td>0.0000</td>\n",
       "      <td>0.0000</td>\n",
       "      <td>0</td>\n",
       "    </tr>\n",
       "    <tr>\n",
       "      <th>2</th>\n",
       "      <td>2</td>\n",
       "      <td>109</td>\n",
       "      <td>0.0000</td>\n",
       "      <td>0.0000</td>\n",
       "      <td>0.0000</td>\n",
       "      <td>6/30/2014</td>\n",
       "      <td>7/31/2014</td>\n",
       "      <td>8/31/2014</td>\n",
       "      <td>60.8060</td>\n",
       "      <td>103.1760</td>\n",
       "      <td>...</td>\n",
       "      <td>0</td>\n",
       "      <td>0</td>\n",
       "      <td>nan</td>\n",
       "      <td>nan</td>\n",
       "      <td>nan</td>\n",
       "      <td>882</td>\n",
       "      <td>0.0000</td>\n",
       "      <td>0.0000</td>\n",
       "      <td>0.0000</td>\n",
       "      <td>0</td>\n",
       "    </tr>\n",
       "    <tr>\n",
       "      <th>3</th>\n",
       "      <td>3</td>\n",
       "      <td>109</td>\n",
       "      <td>0.0000</td>\n",
       "      <td>0.0000</td>\n",
       "      <td>0.0000</td>\n",
       "      <td>6/30/2014</td>\n",
       "      <td>7/31/2014</td>\n",
       "      <td>8/31/2014</td>\n",
       "      <td>156.3620</td>\n",
       "      <td>205.2600</td>\n",
       "      <td>...</td>\n",
       "      <td>0</td>\n",
       "      <td>0</td>\n",
       "      <td>nan</td>\n",
       "      <td>nan</td>\n",
       "      <td>nan</td>\n",
       "      <td>982</td>\n",
       "      <td>0.0000</td>\n",
       "      <td>0.0000</td>\n",
       "      <td>0.0000</td>\n",
       "      <td>0</td>\n",
       "    </tr>\n",
       "    <tr>\n",
       "      <th>4</th>\n",
       "      <td>4</td>\n",
       "      <td>109</td>\n",
       "      <td>0.0000</td>\n",
       "      <td>0.0000</td>\n",
       "      <td>0.0000</td>\n",
       "      <td>6/30/2014</td>\n",
       "      <td>7/31/2014</td>\n",
       "      <td>8/31/2014</td>\n",
       "      <td>240.7080</td>\n",
       "      <td>128.1910</td>\n",
       "      <td>...</td>\n",
       "      <td>1</td>\n",
       "      <td>0</td>\n",
       "      <td>1.0000</td>\n",
       "      <td>1.0000</td>\n",
       "      <td>1.0000</td>\n",
       "      <td>647</td>\n",
       "      <td>0.0000</td>\n",
       "      <td>0.0000</td>\n",
       "      <td>0.0000</td>\n",
       "      <td>0</td>\n",
       "    </tr>\n",
       "  </tbody>\n",
       "</table>\n",
       "<p>5 rows × 172 columns</p>\n",
       "</div>"
      ],
      "text/plain": [
       "   id  circle_id  loc_og_t2o_mou  std_og_t2o_mou  loc_ic_t2o_mou  \\\n",
       "0   0        109          0.0000          0.0000          0.0000   \n",
       "1   1        109          0.0000          0.0000          0.0000   \n",
       "2   2        109          0.0000          0.0000          0.0000   \n",
       "3   3        109          0.0000          0.0000          0.0000   \n",
       "4   4        109          0.0000          0.0000          0.0000   \n",
       "\n",
       "  last_date_of_month_6 last_date_of_month_7 last_date_of_month_8   arpu_6  \\\n",
       "0            6/30/2014            7/31/2014            8/31/2014  31.2770   \n",
       "1            6/30/2014            7/31/2014            8/31/2014   0.0000   \n",
       "2            6/30/2014            7/31/2014            8/31/2014  60.8060   \n",
       "3            6/30/2014            7/31/2014            8/31/2014 156.3620   \n",
       "4            6/30/2014            7/31/2014            8/31/2014 240.7080   \n",
       "\n",
       "    arpu_7  ...  sachet_3g_7  sachet_3g_8  fb_user_6  fb_user_7  fb_user_8  \\\n",
       "0  87.0090  ...            0            0        nan        nan        nan   \n",
       "1 122.7870  ...            0            0        nan     1.0000        nan   \n",
       "2 103.1760  ...            0            0        nan        nan        nan   \n",
       "3 205.2600  ...            0            0        nan        nan        nan   \n",
       "4 128.1910  ...            1            0     1.0000     1.0000     1.0000   \n",
       "\n",
       "    aon  aug_vbc_3g  jul_vbc_3g  jun_vbc_3g  churn_probability  \n",
       "0  1958      0.0000      0.0000      0.0000                  0  \n",
       "1   710      0.0000      0.0000      0.0000                  0  \n",
       "2   882      0.0000      0.0000      0.0000                  0  \n",
       "3   982      0.0000      0.0000      0.0000                  0  \n",
       "4   647      0.0000      0.0000      0.0000                  0  \n",
       "\n",
       "[5 rows x 172 columns]"
      ]
     },
     "execution_count": 7,
     "metadata": {},
     "output_type": "execute_result"
    }
   ],
   "source": [
    "df.head()"
   ]
  },
  {
   "cell_type": "markdown",
   "metadata": {},
   "source": [
    "## Find column types"
   ]
  },
  {
   "cell_type": "code",
   "execution_count": 8,
   "metadata": {},
   "outputs": [
    {
     "data": {
      "text/plain": [
       "(69999, 172)"
      ]
     },
     "execution_count": 8,
     "metadata": {},
     "output_type": "execute_result"
    }
   ],
   "source": [
    "df.shape"
   ]
  },
  {
   "cell_type": "code",
   "execution_count": 9,
   "metadata": {},
   "outputs": [
    {
     "data": {
      "text/plain": [
       "(69999, 170)"
      ]
     },
     "execution_count": 9,
     "metadata": {},
     "output_type": "execute_result"
    }
   ],
   "source": [
    "dropped_columns = []\n",
    "id_columns = ['id', 'circle_id']\n",
    "df = df.drop(id_columns, axis=1)\n",
    "df.shape"
   ]
  },
  {
   "cell_type": "code",
   "execution_count": 10,
   "metadata": {},
   "outputs": [
    {
     "name": "stdout",
     "output_type": "stream",
     "text": [
      "9\n"
     ]
    }
   ],
   "source": [
    "all_columns = list(df.columns)\n",
    "date_columns = []\n",
    "def get_cols_by_name(name):\n",
    "    arr = []\n",
    "    for c in all_columns:\n",
    "        if name in c:\n",
    "            arr.append(c)\n",
    "    return arr\n",
    "datecols = get_cols_by_name(\"date\")\n",
    "print(len(datecols))"
   ]
  },
  {
   "cell_type": "code",
   "execution_count": 11,
   "metadata": {},
   "outputs": [
    {
     "data": {
      "text/plain": [
       "(125, 5)"
      ]
     },
     "execution_count": 11,
     "metadata": {},
     "output_type": "execute_result"
    }
   ],
   "source": [
    "dfnans = find_columns_with_nans(df)\n",
    "dfnans.shape"
   ]
  },
  {
   "cell_type": "code",
   "execution_count": 12,
   "metadata": {},
   "outputs": [
    {
     "name": "stdout",
     "output_type": "stream",
     "text": [
      "['date_of_last_rech_6', 'date_of_last_rech_7', 'date_of_last_rech_8', 'date_of_last_rech_data_6', 'date_of_last_rech_data_7', 'date_of_last_rech_data_8', 'total_rech_data_6', 'total_rech_data_7', 'total_rech_data_8', 'max_rech_data_6', 'max_rech_data_7', 'max_rech_data_8', 'count_rech_2g_6', 'count_rech_2g_7', 'count_rech_2g_8', 'count_rech_3g_6', 'count_rech_3g_7', 'count_rech_3g_8', 'av_rech_amt_data_6', 'av_rech_amt_data_7', 'av_rech_amt_data_8']\n",
      "['total_rech_data_6', 'total_rech_data_7', 'total_rech_data_8', 'max_rech_data_6', 'max_rech_data_7', 'max_rech_data_8', 'count_rech_2g_6', 'count_rech_2g_7', 'count_rech_2g_8', 'count_rech_3g_6', 'count_rech_3g_7', 'count_rech_3g_8', 'av_rech_amt_data_6', 'av_rech_amt_data_7', 'av_rech_amt_data_8']\n",
      "['date_of_last_rech_6', 'date_of_last_rech_7', 'date_of_last_rech_8', 'date_of_last_rech_data_6', 'date_of_last_rech_data_7', 'date_of_last_rech_data_8']\n"
     ]
    }
   ],
   "source": [
    "recharge_columns = [ x for x in list(dfnans['index']) if \"rech\" in x ]\n",
    "print(recharge_columns)\n",
    "recharge_columns_no_date = [x for x in recharge_columns if not \"date\" in x]\n",
    "print(recharge_columns_no_date)\n",
    "only_dates = [x for x in recharge_columns if \"date\" in x]\n",
    "print(only_dates)"
   ]
  },
  {
   "cell_type": "code",
   "execution_count": 13,
   "metadata": {},
   "outputs": [
    {
     "data": {
      "text/plain": [
       "15"
      ]
     },
     "execution_count": 13,
     "metadata": {},
     "output_type": "execute_result"
    }
   ],
   "source": [
    "len(recharge_columns_no_date)"
   ]
  },
  {
   "cell_type": "markdown",
   "metadata": {},
   "source": [
    "### We assume missing values in recharge columns are same as 0"
   ]
  },
  {
   "cell_type": "code",
   "execution_count": 14,
   "metadata": {},
   "outputs": [],
   "source": [
    "df[recharge_columns_no_date] = df[recharge_columns_no_date].apply(lambda x: x.fillna(0))"
   ]
  },
  {
   "cell_type": "code",
   "execution_count": 15,
   "metadata": {},
   "outputs": [
    {
     "data": {
      "text/plain": [
       "(110, 5)"
      ]
     },
     "execution_count": 15,
     "metadata": {},
     "output_type": "execute_result"
    }
   ],
   "source": [
    "dfn2 = find_columns_with_nans(df)\n",
    "dfn2.shape"
   ]
  },
  {
   "cell_type": "code",
   "execution_count": 16,
   "metadata": {},
   "outputs": [
    {
     "data": {
      "text/plain": [
       "(69999, 164)"
      ]
     },
     "execution_count": 16,
     "metadata": {},
     "output_type": "execute_result"
    }
   ],
   "source": [
    "df = df.drop(only_dates, axis=1)\n",
    "df.shape"
   ]
  },
  {
   "cell_type": "code",
   "execution_count": 17,
   "metadata": {},
   "outputs": [
    {
     "data": {
      "text/plain": [
       "(69999, 161)"
      ]
     },
     "execution_count": 17,
     "metadata": {},
     "output_type": "execute_result"
    }
   ],
   "source": [
    "last_date_cols = ['last_date_of_month_6', 'last_date_of_month_7', 'last_date_of_month_8']\n",
    "df = df.drop(last_date_cols, axis=1)\n",
    "df.shape"
   ]
  },
  {
   "cell_type": "code",
   "execution_count": 18,
   "metadata": {},
   "outputs": [
    {
     "name": "stdout",
     "output_type": "stream",
     "text": [
      "loc_og_t2o_mou [ 0. nan] [69297]\n",
      "std_og_t2o_mou [ 0. nan] [69297]\n",
      "loc_ic_t2o_mou [ 0. nan] [69297]\n",
      "std_og_t2c_mou_6 [ 0. nan] [67231]\n",
      "std_og_t2c_mou_7 [ 0. nan] [67312]\n",
      "std_og_t2c_mou_8 [ 0. nan] [66296]\n",
      "std_ic_t2o_mou_6 [ 0. nan] [67231]\n",
      "std_ic_t2o_mou_7 [ 0. nan] [67312]\n",
      "std_ic_t2o_mou_8 [ 0. nan] [66296]\n",
      "night_pck_user_6 [nan  0.  1.] [17124, 444]\n",
      "night_pck_user_7 [nan  0.  1.] [17435, 430]\n",
      "night_pck_user_8 [nan  0.  1.] [18030, 387]\n",
      "fb_user_6 [nan  1.  0.] [16098, 1470]\n",
      "fb_user_7 [nan  1.  0.] [16249, 1616]\n",
      "fb_user_8 [nan  1.  0.] [16397, 2020]\n"
     ]
    },
    {
     "data": {
      "text/plain": [
       "(102, 5)"
      ]
     },
     "execution_count": 18,
     "metadata": {},
     "output_type": "execute_result"
    }
   ],
   "source": [
    "dfn3 = find_columns_with_nans(df)\n",
    "for c in dfn3['index']:\n",
    "    if len(df[c].unique()) < 10:\n",
    "        print(c, df[c].unique(), list(df[c].value_counts()))\n",
    "dfn3.shape"
   ]
  },
  {
   "cell_type": "markdown",
   "metadata": {},
   "source": [
    "### for night_* and fb_user_* impute with -1"
   ]
  },
  {
   "cell_type": "code",
   "execution_count": 19,
   "metadata": {},
   "outputs": [],
   "source": [
    "fb_night_cols = ['night_pck_user_6', 'night_pck_user_7', 'night_pck_user_8', 'fb_user_6', 'fb_user_7', 'fb_user_8']\n",
    "df[fb_night_cols] = df[fb_night_cols].apply(lambda x: x.fillna(-1))"
   ]
  },
  {
   "cell_type": "code",
   "execution_count": 20,
   "metadata": {},
   "outputs": [
    {
     "data": {
      "text/plain": [
       "(96, 5)"
      ]
     },
     "execution_count": 20,
     "metadata": {},
     "output_type": "execute_result"
    }
   ],
   "source": [
    "dfn4 = find_columns_with_nans(df)\n",
    "dfn4.shape"
   ]
  },
  {
   "cell_type": "markdown",
   "metadata": {},
   "source": [
    "### Drop columns with more than 40% nans"
   ]
  },
  {
   "cell_type": "code",
   "execution_count": 21,
   "metadata": {},
   "outputs": [
    {
     "data": {
      "text/plain": [
       "(69999, 161)"
      ]
     },
     "execution_count": 21,
     "metadata": {},
     "output_type": "execute_result"
    }
   ],
   "source": [
    "df.shape"
   ]
  },
  {
   "cell_type": "code",
   "execution_count": 22,
   "metadata": {},
   "outputs": [
    {
     "name": "stdout",
     "output_type": "stream",
     "text": [
      "Cols with 40% or more nans: 6\n",
      "After dropping: (69999, 155)\n"
     ]
    },
    {
     "data": {
      "text/plain": [
       "(69999, 155)"
      ]
     },
     "execution_count": 22,
     "metadata": {},
     "output_type": "execute_result"
    }
   ],
   "source": [
    "df, cols_with_nans = drop_columns_with_nans(df)\n",
    "df.shape"
   ]
  },
  {
   "cell_type": "code",
   "execution_count": 23,
   "metadata": {},
   "outputs": [
    {
     "name": "stdout",
     "output_type": "stream",
     "text": [
      "loc_og_t2o_mou, float, 1.003 0.00, 0.00, 0.00\n",
      "std_og_t2o_mou, float, 1.003 0.00, 0.00, 0.00\n",
      "loc_ic_t2o_mou, float, 1.003 0.00, 0.00, 0.00\n",
      "onnet_mou_6, float, 3.954 133.15, 34.11, 299.96\n",
      "onnet_mou_7, float, 3.839 133.89, 32.28, 311.28\n",
      "onnet_mou_8, float, 5.290 132.98, 32.10, 311.90\n",
      "offnet_mou_6, float, 3.954 198.87, 96.48, 316.82\n",
      "offnet_mou_7, float, 3.839 197.15, 91.88, 322.48\n",
      "offnet_mou_8, float, 5.290 196.54, 91.80, 324.09\n",
      "roam_ic_mou_6, float, 3.954 9.77, 0.00, 57.37\n",
      "roam_ic_mou_7, float, 3.839 7.01, 0.00, 55.96\n",
      "roam_ic_mou_8, float, 5.290 7.00, 0.00, 53.41\n",
      "roam_og_mou_6, float, 3.954 14.19, 0.00, 73.47\n",
      "roam_og_mou_7, float, 3.839 9.84, 0.00, 58.51\n",
      "roam_og_mou_8, float, 5.290 9.77, 0.00, 64.62\n",
      "loc_og_t2t_mou_6, float, 3.954 46.90, 11.91, 150.97\n",
      "loc_og_t2t_mou_7, float, 3.839 46.17, 11.58, 154.74\n",
      "loc_og_t2t_mou_8, float, 5.290 45.69, 11.74, 153.72\n",
      "loc_og_t2m_mou_6, float, 3.954 93.24, 41.03, 162.05\n",
      "loc_og_t2m_mou_7, float, 3.839 90.80, 40.17, 153.85\n",
      "loc_og_t2m_mou_8, float, 5.290 91.12, 40.35, 153.00\n",
      "loc_og_t2f_mou_6, float, 3.954 3.74, 0.00, 13.32\n",
      "loc_og_t2f_mou_7, float, 3.839 3.78, 0.00, 13.57\n",
      "loc_og_t2f_mou_8, float, 5.290 3.66, 0.00, 13.01\n",
      "loc_og_t2c_mou_6, float, 3.954 1.13, 0.00, 5.74\n",
      "loc_og_t2c_mou_7, float, 3.839 1.36, 0.00, 7.91\n",
      "loc_og_t2c_mou_8, float, 5.290 1.42, 0.00, 6.54\n",
      "loc_og_mou_6, float, 3.954 143.89, 65.19, 252.03\n",
      "loc_og_mou_7, float, 3.839 140.75, 63.43, 246.31\n",
      "loc_og_mou_8, float, 5.290 140.48, 63.52, 245.34\n",
      "std_og_t2t_mou_6, float, 3.954 80.62, 0.00, 255.10\n",
      "std_og_t2t_mou_7, float, 3.839 83.78, 0.00, 266.69\n",
      "std_og_t2t_mou_8, float, 5.290 83.47, 0.00, 267.02\n",
      "std_og_t2m_mou_6, float, 3.954 88.15, 3.98, 255.77\n",
      "std_og_t2m_mou_7, float, 3.839 91.54, 3.71, 267.53\n",
      "std_og_t2m_mou_8, float, 5.290 90.59, 3.30, 270.03\n",
      "std_og_t2f_mou_6, float, 3.954 1.13, 0.00, 8.14\n",
      "std_og_t2f_mou_7, float, 3.839 1.08, 0.00, 8.33\n",
      "std_og_t2f_mou_8, float, 5.290 1.06, 0.00, 7.70\n",
      "std_og_t2c_mou_6, float, 3.954 0.00, 0.00, 0.00\n",
      "std_og_t2c_mou_7, float, 3.839 0.00, 0.00, 0.00\n",
      "std_og_t2c_mou_8, float, 5.290 0.00, 0.00, 0.00\n",
      "std_og_mou_6, float, 3.954 169.90, 11.73, 392.05\n",
      "std_og_mou_7, float, 3.839 176.40, 11.26, 409.30\n",
      "std_og_mou_8, float, 5.290 175.12, 10.50, 410.70\n",
      "isd_og_mou_6, float, 3.954 0.85, 0.00, 29.75\n",
      "isd_og_mou_7, float, 3.839 0.81, 0.00, 29.22\n",
      "isd_og_mou_8, float, 5.290 0.84, 0.00, 29.56\n",
      "spl_og_mou_6, float, 3.954 3.96, 0.00, 15.85\n",
      "spl_og_mou_7, float, 3.839 4.98, 0.00, 22.23\n",
      "spl_og_mou_8, float, 5.290 5.05, 0.00, 17.71\n",
      "og_others_6, float, 3.954 0.46, 0.00, 4.77\n",
      "og_others_7, float, 3.839 0.02, 0.00, 1.72\n",
      "og_others_8, float, 5.290 0.03, 0.00, 2.23\n",
      "loc_ic_t2t_mou_6, float, 3.954 48.04, 15.74, 140.50\n",
      "loc_ic_t2t_mou_7, float, 3.839 47.88, 15.83, 147.76\n",
      "loc_ic_t2t_mou_8, float, 5.290 47.26, 16.04, 141.25\n",
      "loc_ic_t2m_mou_6, float, 3.954 107.15, 56.46, 168.46\n",
      "loc_ic_t2m_mou_7, float, 3.839 106.49, 56.93, 165.45\n",
      "loc_ic_t2m_mou_8, float, 5.290 108.15, 58.21, 166.22\n",
      "loc_ic_t2f_mou_6, float, 3.954 12.05, 0.88, 39.42\n",
      "loc_ic_t2f_mou_7, float, 3.839 12.56, 0.91, 43.50\n",
      "loc_ic_t2f_mou_8, float, 5.290 11.72, 0.93, 38.61\n",
      "loc_ic_mou_6, float, 3.954 167.26, 92.43, 252.58\n",
      "loc_ic_mou_7, float, 3.839 166.95, 92.51, 254.69\n",
      "loc_ic_mou_8, float, 5.290 167.14, 93.89, 249.29\n",
      "std_ic_t2t_mou_6, float, 3.954 9.48, 0.00, 51.66\n",
      "std_ic_t2t_mou_7, float, 3.839 9.87, 0.00, 56.14\n",
      "std_ic_t2t_mou_8, float, 5.290 9.91, 0.00, 54.25\n",
      "std_ic_t2m_mou_6, float, 3.954 20.73, 2.04, 80.29\n",
      "std_ic_t2m_mou_7, float, 3.839 21.69, 2.06, 87.31\n",
      "std_ic_t2m_mou_8, float, 5.290 21.09, 2.03, 81.53\n",
      "std_ic_t2f_mou_6, float, 3.954 2.15, 0.00, 16.52\n",
      "std_ic_t2f_mou_7, float, 3.839 2.20, 0.00, 16.17\n",
      "std_ic_t2f_mou_8, float, 5.290 2.08, 0.00, 15.87\n",
      "std_ic_t2o_mou_6, float, 3.954 0.00, 0.00, 0.00\n",
      "std_ic_t2o_mou_7, float, 3.839 0.00, 0.00, 0.00\n",
      "std_ic_t2o_mou_8, float, 5.290 0.00, 0.00, 0.00\n",
      "std_ic_mou_6, float, 3.954 32.36, 5.91, 104.38\n",
      "std_ic_mou_7, float, 3.839 33.76, 5.98, 114.14\n",
      "std_ic_mou_8, float, 5.290 33.08, 5.83, 108.47\n",
      "spl_ic_mou_6, float, 3.954 0.06, 0.00, 0.16\n",
      "spl_ic_mou_7, float, 3.839 0.03, 0.00, 0.14\n",
      "spl_ic_mou_8, float, 5.290 0.04, 0.00, 0.15\n",
      "isd_ic_mou_6, float, 3.954 7.39, 0.00, 60.95\n",
      "isd_ic_mou_7, float, 3.839 8.17, 0.00, 63.60\n",
      "isd_ic_mou_8, float, 5.290 8.35, 0.00, 63.10\n",
      "ic_others_6, float, 3.954 0.85, 0.00, 12.15\n",
      "ic_others_7, float, 3.839 1.02, 0.00, 13.23\n",
      "ic_others_8, float, 5.290 0.96, 0.00, 11.70\n"
     ]
    },
    {
     "data": {
      "text/plain": [
       "(90, 5)"
      ]
     },
     "execution_count": 23,
     "metadata": {},
     "output_type": "execute_result"
    }
   ],
   "source": [
    "dfn5 = find_columns_with_nans(df)\n",
    "impute_values = {}\n",
    "for i,col in enumerate(list(dfn5['index'])):\n",
    "    if df[col].dtype == np.float64 or df[col].dtype == np.int64:\n",
    "        print(f'{col}, float, {dfn5[\"perc\"][i]:.3f} {df[col].mean():.2f}, {df[col].median():.2f}, {df[col].std():.2f}')\n",
    "        df[col] = df[col].fillna(df[col].median())\n",
    "        impute_values[col] = df[col].median()\n",
    "    else:\n",
    "        df[col] = df[col].fillna(df[col].mode(dropna=True)[0])\n",
    "dfn5.shape"
   ]
  },
  {
   "cell_type": "code",
   "execution_count": 24,
   "metadata": {},
   "outputs": [],
   "source": [
    "# dfX = df.drop(\"churn_probability\", axis = 1)\n",
    "# dfc = df.copy()\n",
    "# from sklearn.impute import KNNImputer, SimpleImputer\n",
    "# # imputer = KNNImputer(n_neighbors=3)\n",
    "# imputer = SimpleImputer(strategy=\"mean\")\n",
    "# imputer.fit(df)\n",
    "# dft=imputer.transform(df)\n",
    "# df[\"churn_probability\"].equals(dfc[\"churn_probability\"])"
   ]
  },
  {
   "cell_type": "code",
   "execution_count": 25,
   "metadata": {},
   "outputs": [
    {
     "data": {
      "text/html": [
       "<div>\n",
       "<style scoped>\n",
       "    .dataframe tbody tr th:only-of-type {\n",
       "        vertical-align: middle;\n",
       "    }\n",
       "\n",
       "    .dataframe tbody tr th {\n",
       "        vertical-align: top;\n",
       "    }\n",
       "\n",
       "    .dataframe thead th {\n",
       "        text-align: right;\n",
       "    }\n",
       "</style>\n",
       "<table border=\"1\" class=\"dataframe\">\n",
       "  <thead>\n",
       "    <tr style=\"text-align: right;\">\n",
       "      <th></th>\n",
       "      <th>index</th>\n",
       "      <th>counts</th>\n",
       "      <th>perc</th>\n",
       "      <th>uniq_counts</th>\n",
       "      <th>dtype</th>\n",
       "    </tr>\n",
       "  </thead>\n",
       "  <tbody>\n",
       "  </tbody>\n",
       "</table>\n",
       "</div>"
      ],
      "text/plain": [
       "Empty DataFrame\n",
       "Columns: [index, counts, perc, uniq_counts, dtype]\n",
       "Index: []"
      ]
     },
     "execution_count": 25,
     "metadata": {},
     "output_type": "execute_result"
    }
   ],
   "source": [
    "find_columns_with_nans(df)"
   ]
  },
  {
   "cell_type": "code",
   "execution_count": 26,
   "metadata": {},
   "outputs": [
    {
     "data": {
      "text/plain": [
       "(69999, 155)"
      ]
     },
     "execution_count": 26,
     "metadata": {},
     "output_type": "execute_result"
    }
   ],
   "source": [
    "df.shape"
   ]
  },
  {
   "cell_type": "code",
   "execution_count": 27,
   "metadata": {},
   "outputs": [
    {
     "data": {
      "text/plain": [
       "{'loc_og_t2o_mou': [0.0],\n",
       " 'std_og_t2o_mou': [0.0],\n",
       " 'loc_ic_t2o_mou': [0.0],\n",
       " 'std_og_t2c_mou_6': [0.0],\n",
       " 'std_og_t2c_mou_7': [0.0],\n",
       " 'std_og_t2c_mou_8': [0.0],\n",
       " 'std_ic_t2o_mou_6': [0.0],\n",
       " 'std_ic_t2o_mou_7': [0.0],\n",
       " 'std_ic_t2o_mou_8': [0.0]}"
      ]
     },
     "execution_count": 27,
     "metadata": {},
     "output_type": "execute_result"
    }
   ],
   "source": [
    "sc = same_columns(df)\n",
    "sc"
   ]
  },
  {
   "cell_type": "code",
   "execution_count": 28,
   "metadata": {},
   "outputs": [
    {
     "data": {
      "text/plain": [
       "(69999, 146)"
      ]
     },
     "execution_count": 28,
     "metadata": {},
     "output_type": "execute_result"
    }
   ],
   "source": [
    "same_cols = sc.keys()\n",
    "df = df.drop(same_cols,axis=1)\n",
    "df.shape"
   ]
  },
  {
   "cell_type": "code",
   "execution_count": 29,
   "metadata": {},
   "outputs": [
    {
     "data": {
      "text/plain": [
       "0   0.8981\n",
       "1   0.1019\n",
       "Name: churn_probability, dtype: float64"
      ]
     },
     "execution_count": 29,
     "metadata": {},
     "output_type": "execute_result"
    }
   ],
   "source": [
    "df['churn_probability'].value_counts() / df.shape[0]"
   ]
  },
  {
   "cell_type": "code",
   "execution_count": null,
   "metadata": {},
   "outputs": [],
   "source": []
  },
  {
   "cell_type": "markdown",
   "metadata": {},
   "source": [
    "## Process test data"
   ]
  },
  {
   "cell_type": "code",
   "execution_count": 30,
   "metadata": {},
   "outputs": [],
   "source": [
    "dfnoy = df.drop(\"churn_probability\", axis = 1)\n",
    "train_cols = list(dfnoy.columns)"
   ]
  },
  {
   "cell_type": "code",
   "execution_count": 31,
   "metadata": {},
   "outputs": [
    {
     "data": {
      "text/plain": [
       "(30000, 171)"
      ]
     },
     "execution_count": 31,
     "metadata": {},
     "output_type": "execute_result"
    }
   ],
   "source": [
    "dft = pd.read_csv(\"./test.csv\", low_memory=False)\n",
    "dft.shape"
   ]
  },
  {
   "cell_type": "code",
   "execution_count": 32,
   "metadata": {},
   "outputs": [],
   "source": [
    "dftid = pd.DataFrame()\n",
    "dftid['id'] = dft['id']"
   ]
  },
  {
   "cell_type": "code",
   "execution_count": 33,
   "metadata": {},
   "outputs": [
    {
     "data": {
      "text/plain": [
       "(30000, 145)"
      ]
     },
     "execution_count": 33,
     "metadata": {},
     "output_type": "execute_result"
    }
   ],
   "source": [
    "dft = dft.filter(train_cols,axis=1)\n",
    "dft.shape"
   ]
  },
  {
   "cell_type": "code",
   "execution_count": 34,
   "metadata": {},
   "outputs": [
    {
     "data": {
      "text/html": [
       "<div>\n",
       "<style scoped>\n",
       "    .dataframe tbody tr th:only-of-type {\n",
       "        vertical-align: middle;\n",
       "    }\n",
       "\n",
       "    .dataframe tbody tr th {\n",
       "        vertical-align: top;\n",
       "    }\n",
       "\n",
       "    .dataframe thead th {\n",
       "        text-align: right;\n",
       "    }\n",
       "</style>\n",
       "<table border=\"1\" class=\"dataframe\">\n",
       "  <thead>\n",
       "    <tr style=\"text-align: right;\">\n",
       "      <th></th>\n",
       "      <th>index</th>\n",
       "      <th>counts</th>\n",
       "      <th>perc</th>\n",
       "      <th>uniq_counts</th>\n",
       "      <th>dtype</th>\n",
       "    </tr>\n",
       "  </thead>\n",
       "  <tbody>\n",
       "    <tr>\n",
       "      <th>0</th>\n",
       "      <td>onnet_mou_6</td>\n",
       "      <td>1169</td>\n",
       "      <td>3.8967</td>\n",
       "      <td>12284</td>\n",
       "      <td>float64</td>\n",
       "    </tr>\n",
       "    <tr>\n",
       "      <th>1</th>\n",
       "      <td>onnet_mou_7</td>\n",
       "      <td>1172</td>\n",
       "      <td>3.9067</td>\n",
       "      <td>12177</td>\n",
       "      <td>float64</td>\n",
       "    </tr>\n",
       "    <tr>\n",
       "      <th>2</th>\n",
       "      <td>onnet_mou_8</td>\n",
       "      <td>1675</td>\n",
       "      <td>5.5833</td>\n",
       "      <td>12055</td>\n",
       "      <td>float64</td>\n",
       "    </tr>\n",
       "    <tr>\n",
       "      <th>3</th>\n",
       "      <td>offnet_mou_6</td>\n",
       "      <td>1169</td>\n",
       "      <td>3.8967</td>\n",
       "      <td>16383</td>\n",
       "      <td>float64</td>\n",
       "    </tr>\n",
       "    <tr>\n",
       "      <th>4</th>\n",
       "      <td>offnet_mou_7</td>\n",
       "      <td>1172</td>\n",
       "      <td>3.9067</td>\n",
       "      <td>16152</td>\n",
       "      <td>float64</td>\n",
       "    </tr>\n",
       "    <tr>\n",
       "      <th>...</th>\n",
       "      <td>...</td>\n",
       "      <td>...</td>\n",
       "      <td>...</td>\n",
       "      <td>...</td>\n",
       "      <td>...</td>\n",
       "    </tr>\n",
       "    <tr>\n",
       "      <th>97</th>\n",
       "      <td>night_pck_user_7</td>\n",
       "      <td>22294</td>\n",
       "      <td>74.3133</td>\n",
       "      <td>3</td>\n",
       "      <td>float64</td>\n",
       "    </tr>\n",
       "    <tr>\n",
       "      <th>98</th>\n",
       "      <td>night_pck_user_8</td>\n",
       "      <td>22078</td>\n",
       "      <td>73.5933</td>\n",
       "      <td>3</td>\n",
       "      <td>float64</td>\n",
       "    </tr>\n",
       "    <tr>\n",
       "      <th>99</th>\n",
       "      <td>fb_user_6</td>\n",
       "      <td>22415</td>\n",
       "      <td>74.7167</td>\n",
       "      <td>3</td>\n",
       "      <td>float64</td>\n",
       "    </tr>\n",
       "    <tr>\n",
       "      <th>100</th>\n",
       "      <td>fb_user_7</td>\n",
       "      <td>22294</td>\n",
       "      <td>74.3133</td>\n",
       "      <td>3</td>\n",
       "      <td>float64</td>\n",
       "    </tr>\n",
       "    <tr>\n",
       "      <th>101</th>\n",
       "      <td>fb_user_8</td>\n",
       "      <td>22078</td>\n",
       "      <td>73.5933</td>\n",
       "      <td>3</td>\n",
       "      <td>float64</td>\n",
       "    </tr>\n",
       "  </tbody>\n",
       "</table>\n",
       "<p>102 rows × 5 columns</p>\n",
       "</div>"
      ],
      "text/plain": [
       "                index  counts    perc  uniq_counts    dtype\n",
       "0         onnet_mou_6    1169  3.8967        12284  float64\n",
       "1         onnet_mou_7    1172  3.9067        12177  float64\n",
       "2         onnet_mou_8    1675  5.5833        12055  float64\n",
       "3        offnet_mou_6    1169  3.8967        16383  float64\n",
       "4        offnet_mou_7    1172  3.9067        16152  float64\n",
       "..                ...     ...     ...          ...      ...\n",
       "97   night_pck_user_7   22294 74.3133            3  float64\n",
       "98   night_pck_user_8   22078 73.5933            3  float64\n",
       "99          fb_user_6   22415 74.7167            3  float64\n",
       "100         fb_user_7   22294 74.3133            3  float64\n",
       "101         fb_user_8   22078 73.5933            3  float64\n",
       "\n",
       "[102 rows x 5 columns]"
      ]
     },
     "execution_count": 34,
     "metadata": {},
     "output_type": "execute_result"
    }
   ],
   "source": [
    "find_columns_with_nans(dft)"
   ]
  },
  {
   "cell_type": "code",
   "execution_count": 35,
   "metadata": {},
   "outputs": [],
   "source": [
    "dft[recharge_columns_no_date] = dft[recharge_columns_no_date].apply(lambda x: x.fillna(0))"
   ]
  },
  {
   "cell_type": "code",
   "execution_count": 36,
   "metadata": {},
   "outputs": [],
   "source": [
    "dft[fb_night_cols] = dft[fb_night_cols].apply(lambda x: x.fillna(-1))"
   ]
  },
  {
   "cell_type": "code",
   "execution_count": 37,
   "metadata": {},
   "outputs": [],
   "source": [
    "for col, v in impute_values.items():\n",
    "    if col in dft.columns:\n",
    "        dft[col] = dft[col].fillna(v)"
   ]
  },
  {
   "cell_type": "code",
   "execution_count": 38,
   "metadata": {},
   "outputs": [
    {
     "data": {
      "text/html": [
       "<div>\n",
       "<style scoped>\n",
       "    .dataframe tbody tr th:only-of-type {\n",
       "        vertical-align: middle;\n",
       "    }\n",
       "\n",
       "    .dataframe tbody tr th {\n",
       "        vertical-align: top;\n",
       "    }\n",
       "\n",
       "    .dataframe thead th {\n",
       "        text-align: right;\n",
       "    }\n",
       "</style>\n",
       "<table border=\"1\" class=\"dataframe\">\n",
       "  <thead>\n",
       "    <tr style=\"text-align: right;\">\n",
       "      <th></th>\n",
       "      <th>index</th>\n",
       "      <th>counts</th>\n",
       "      <th>perc</th>\n",
       "      <th>uniq_counts</th>\n",
       "      <th>dtype</th>\n",
       "    </tr>\n",
       "  </thead>\n",
       "  <tbody>\n",
       "  </tbody>\n",
       "</table>\n",
       "</div>"
      ],
      "text/plain": [
       "Empty DataFrame\n",
       "Columns: [index, counts, perc, uniq_counts, dtype]\n",
       "Index: []"
      ]
     },
     "execution_count": 38,
     "metadata": {},
     "output_type": "execute_result"
    }
   ],
   "source": [
    "find_columns_with_nans(dft)"
   ]
  },
  {
   "cell_type": "markdown",
   "metadata": {},
   "source": [
    "### Derive some features as discussed in session"
   ]
  },
  {
   "cell_type": "code",
   "execution_count": 39,
   "metadata": {},
   "outputs": [
    {
     "name": "stdout",
     "output_type": "stream",
     "text": [
      "(69999, 146)\n",
      "arpu_diff arpu_6 arpu_7 arpu_8\n",
      "onnet_mou_diff onnet_mou_6 onnet_mou_7 onnet_mou_8\n",
      "offnet_mou_diff offnet_mou_6 offnet_mou_7 offnet_mou_8\n",
      "roam_ic_mou_diff roam_ic_mou_6 roam_ic_mou_7 roam_ic_mou_8\n",
      "roam_og_mou_diff roam_og_mou_6 roam_og_mou_7 roam_og_mou_8\n",
      "loc_og_mou_diff loc_og_mou_6 loc_og_mou_7 loc_og_mou_8\n",
      "std_og_mou_diff std_og_mou_6 std_og_mou_7 std_og_mou_8\n",
      "isd_og_mou_diff isd_og_mou_6 isd_og_mou_7 isd_og_mou_8\n",
      "spl_og_mou_diff spl_og_mou_6 spl_og_mou_7 spl_og_mou_8\n",
      "total_og_mou_diff total_og_mou_6 total_og_mou_7 total_og_mou_8\n",
      "loc_ic_mou_diff loc_ic_mou_6 loc_ic_mou_7 loc_ic_mou_8\n",
      "std_ic_mou_diff std_ic_mou_6 std_ic_mou_7 std_ic_mou_8\n",
      "isd_ic_mou_diff isd_ic_mou_6 isd_ic_mou_7 isd_ic_mou_8\n",
      "spl_ic_mou_diff spl_ic_mou_6 spl_ic_mou_7 spl_ic_mou_8\n",
      "total_ic_mou_diff total_ic_mou_6 total_ic_mou_7 total_ic_mou_8\n",
      "total_rech_num_diff total_rech_num_6 total_rech_num_7 total_rech_num_8\n",
      "total_rech_amt_diff total_rech_amt_6 total_rech_amt_7 total_rech_amt_8\n",
      "max_rech_amt_diff max_rech_amt_6 max_rech_amt_7 max_rech_amt_8\n",
      "total_rech_data_diff total_rech_data_6 total_rech_data_7 total_rech_data_8\n",
      "max_rech_data_diff max_rech_data_6 max_rech_data_7 max_rech_data_8\n",
      "av_rech_amt_data_diff av_rech_amt_data_6 av_rech_amt_data_7 av_rech_amt_data_8\n",
      "vol_2g_mb_diff vol_2g_mb_6 vol_2g_mb_7 vol_2g_mb_8\n",
      "vol_3g_mb_diff vol_3g_mb_6 vol_3g_mb_7 vol_3g_mb_8\n",
      "(69999, 169)\n"
     ]
    }
   ],
   "source": [
    "for_derived_feats = [\"arpu\", \"onnet_mou\", \"offnet_mou\", \"roam_ic_mou\", \"roam_og_mou\", \"loc_og_mou\", \"std_og_mou\", \n",
    " \"isd_og_mou\", \"spl_og_mou\", \"total_og_mou\", \"loc_ic_mou\", \"std_ic_mou\", \"isd_ic_mou\", \"spl_ic_mou\", \n",
    " \"total_ic_mou\", \"total_rech_num\", \"total_rech_amt\", \"max_rech_amt\", \"total_rech_data\", \n",
    " \"max_rech_data\", \"av_rech_amt_data\", \"vol_2g_mb\", \"vol_3g_mb\"]\n",
    "\n",
    "print(df.shape)\n",
    "for c in for_derived_feats:\n",
    "    c_diff, c6, c7, c8 = c + \"_diff\", c + \"_6\", c + \"_7\", c + \"_8\"\n",
    "    print(c_diff, c6, c7, c8)\n",
    "    df[c_diff] = df[c8] - (df[c6] + df[c7])/2\n",
    "print(df.shape)"
   ]
  },
  {
   "cell_type": "code",
   "execution_count": 40,
   "metadata": {},
   "outputs": [
    {
     "name": "stdout",
     "output_type": "stream",
     "text": [
      "(30000, 145)\n",
      "arpu_diff arpu_6 arpu_7 arpu_8\n",
      "onnet_mou_diff onnet_mou_6 onnet_mou_7 onnet_mou_8\n",
      "offnet_mou_diff offnet_mou_6 offnet_mou_7 offnet_mou_8\n",
      "roam_ic_mou_diff roam_ic_mou_6 roam_ic_mou_7 roam_ic_mou_8\n",
      "roam_og_mou_diff roam_og_mou_6 roam_og_mou_7 roam_og_mou_8\n",
      "loc_og_mou_diff loc_og_mou_6 loc_og_mou_7 loc_og_mou_8\n",
      "std_og_mou_diff std_og_mou_6 std_og_mou_7 std_og_mou_8\n",
      "isd_og_mou_diff isd_og_mou_6 isd_og_mou_7 isd_og_mou_8\n",
      "spl_og_mou_diff spl_og_mou_6 spl_og_mou_7 spl_og_mou_8\n",
      "total_og_mou_diff total_og_mou_6 total_og_mou_7 total_og_mou_8\n",
      "loc_ic_mou_diff loc_ic_mou_6 loc_ic_mou_7 loc_ic_mou_8\n",
      "std_ic_mou_diff std_ic_mou_6 std_ic_mou_7 std_ic_mou_8\n",
      "isd_ic_mou_diff isd_ic_mou_6 isd_ic_mou_7 isd_ic_mou_8\n",
      "spl_ic_mou_diff spl_ic_mou_6 spl_ic_mou_7 spl_ic_mou_8\n",
      "total_ic_mou_diff total_ic_mou_6 total_ic_mou_7 total_ic_mou_8\n",
      "total_rech_num_diff total_rech_num_6 total_rech_num_7 total_rech_num_8\n",
      "total_rech_amt_diff total_rech_amt_6 total_rech_amt_7 total_rech_amt_8\n",
      "max_rech_amt_diff max_rech_amt_6 max_rech_amt_7 max_rech_amt_8\n",
      "total_rech_data_diff total_rech_data_6 total_rech_data_7 total_rech_data_8\n",
      "max_rech_data_diff max_rech_data_6 max_rech_data_7 max_rech_data_8\n",
      "av_rech_amt_data_diff av_rech_amt_data_6 av_rech_amt_data_7 av_rech_amt_data_8\n",
      "vol_2g_mb_diff vol_2g_mb_6 vol_2g_mb_7 vol_2g_mb_8\n",
      "vol_3g_mb_diff vol_3g_mb_6 vol_3g_mb_7 vol_3g_mb_8\n",
      "(30000, 168)\n"
     ]
    }
   ],
   "source": [
    "print(dft.shape)\n",
    "for c in for_derived_feats:\n",
    "    c_diff, c6, c7, c8 = c + \"_diff\", c + \"_6\", c + \"_7\", c + \"_8\"\n",
    "    print(c_diff, c6, c7, c8)\n",
    "    dft[c_diff] = dft[c8] - (dft[c6] + dft[c7])/2\n",
    "print(dft.shape)"
   ]
  },
  {
   "cell_type": "code",
   "execution_count": null,
   "metadata": {},
   "outputs": [],
   "source": []
  },
  {
   "cell_type": "code",
   "execution_count": 41,
   "metadata": {},
   "outputs": [],
   "source": [
    "def remove_outliers(arr, k=3):\n",
    "    upper_limit = arr.mean() + k*arr.std()\n",
    "    lower_limit = arr.mean() - k*arr.std()\n",
    "    arr[arr<lower_limit] = lower_limit\n",
    "    arr[arr>upper_limit] = upper_limit\n",
    "    return arr"
   ]
  },
  {
   "cell_type": "code",
   "execution_count": 42,
   "metadata": {},
   "outputs": [
    {
     "data": {
      "text/plain": [
       "(69999, 169)"
      ]
     },
     "execution_count": 42,
     "metadata": {},
     "output_type": "execute_result"
    }
   ],
   "source": [
    "for col in df.columns:\n",
    "    if df[col].dtype == np.float64:\n",
    "        df[col] = remove_outliers(df[col])\n",
    "df.shape"
   ]
  },
  {
   "cell_type": "markdown",
   "metadata": {},
   "source": [
    "### High Value customers"
   ]
  },
  {
   "cell_type": "code",
   "execution_count": 43,
   "metadata": {},
   "outputs": [],
   "source": [
    "# Data recharge amt\n",
    "df['total_rech_amt_data_6'] = df['total_rech_data_6'] * df['av_rech_amt_data_6']\n",
    "df['total_rech_amt_data_7'] = df['total_rech_data_7'] * df['av_rech_amt_data_7']\n",
    "df['total_rech_amt_d_6'] = df['total_rech_amt_6'] + df['total_rech_amt_data_6']\n",
    "df['total_rech_amt_d_7'] = df['total_rech_amt_7'] + df['total_rech_amt_data_7']\n",
    "df['av_rech_amt_data_6_7'] = (df['total_rech_amt_d_6'] + df['total_rech_amt_d_7'])/2"
   ]
  },
  {
   "cell_type": "code",
   "execution_count": 44,
   "metadata": {},
   "outputs": [
    {
     "data": {
      "text/plain": [
       "477.0"
      ]
     },
     "execution_count": 44,
     "metadata": {},
     "output_type": "execute_result"
    }
   ],
   "source": [
    "df['av_rech_amt_data_6_7'].quantile(0.7)"
   ]
  },
  {
   "cell_type": "code",
   "execution_count": 45,
   "metadata": {},
   "outputs": [
    {
     "data": {
      "text/plain": [
       "(21011, 174)"
      ]
     },
     "execution_count": 45,
     "metadata": {},
     "output_type": "execute_result"
    }
   ],
   "source": [
    "dfh = df.loc[df['av_rech_amt_data_6_7'] >= df['av_rech_amt_data_6_7'].quantile(0.7), :]\n",
    "dfh.shape"
   ]
  },
  {
   "cell_type": "code",
   "execution_count": 46,
   "metadata": {},
   "outputs": [
    {
     "data": {
      "text/plain": [
       "0   0.9175\n",
       "1   0.0825\n",
       "Name: churn_probability, dtype: float64"
      ]
     },
     "execution_count": 46,
     "metadata": {},
     "output_type": "execute_result"
    }
   ],
   "source": [
    "dfh['churn_probability'].value_counts() / dfh.shape[0]"
   ]
  },
  {
   "cell_type": "code",
   "execution_count": 47,
   "metadata": {},
   "outputs": [
    {
     "data": {
      "text/plain": [
       "(21011, 169)"
      ]
     },
     "execution_count": 47,
     "metadata": {},
     "output_type": "execute_result"
    }
   ],
   "source": [
    "dfh = dfh.drop(['total_rech_amt_data_6', 'total_rech_amt_data_7', \n",
    "                'total_rech_amt_d_6', 'total_rech_amt_d_7', 'av_rech_amt_data_6_7'], axis=1)\n",
    "dfh.shape"
   ]
  },
  {
   "cell_type": "code",
   "execution_count": 48,
   "metadata": {},
   "outputs": [
    {
     "data": {
      "text/plain": [
       "(69999, 169)"
      ]
     },
     "execution_count": 48,
     "metadata": {},
     "output_type": "execute_result"
    }
   ],
   "source": [
    "df = df.drop(['total_rech_amt_data_6', 'total_rech_amt_data_7', \n",
    "                'total_rech_amt_d_6', 'total_rech_amt_d_7', 'av_rech_amt_data_6_7'], axis=1)\n",
    "df.shape"
   ]
  },
  {
   "cell_type": "code",
   "execution_count": 49,
   "metadata": {},
   "outputs": [
    {
     "data": {
      "text/plain": [
       "(21011, 175)"
      ]
     },
     "execution_count": 49,
     "metadata": {},
     "output_type": "execute_result"
    }
   ],
   "source": [
    "dfh1 = pd.get_dummies(dfh, columns=fb_night_cols, prefix=fb_night_cols, drop_first=True)\n",
    "dfh1.shape"
   ]
  },
  {
   "cell_type": "markdown",
   "metadata": {},
   "source": [
    "## EDA"
   ]
  },
  {
   "cell_type": "code",
   "execution_count": 50,
   "metadata": {},
   "outputs": [],
   "source": [
    "# Perform EDA on dataframe df"
   ]
  },
  {
   "cell_type": "code",
   "execution_count": null,
   "metadata": {},
   "outputs": [],
   "source": []
  },
  {
   "cell_type": "code",
   "execution_count": null,
   "metadata": {},
   "outputs": [],
   "source": []
  },
  {
   "cell_type": "markdown",
   "metadata": {},
   "source": [
    "## Models"
   ]
  },
  {
   "cell_type": "code",
   "execution_count": 51,
   "metadata": {},
   "outputs": [],
   "source": [
    "from sklearn.model_selection import train_test_split\n",
    "from sklearn.pipeline import Pipeline\n",
    "from sklearn.decomposition import PCA\n",
    "from sklearn.preprocessing import StandardScaler, RobustScaler\n",
    "from sklearn.base import BaseEstimator, TransformerMixin\n",
    "from sklearn.linear_model import LogisticRegression\n",
    "from sklearn.metrics import classification_report, confusion_matrix, roc_auc_score\n",
    "from sklearn.model_selection import StratifiedKFold, cross_val_score, GridSearchCV\n",
    "from sklearn.ensemble import RandomForestClassifier, ExtraTreesClassifier\n",
    "from sklearn.ensemble import GradientBoostingClassifier"
   ]
  },
  {
   "cell_type": "code",
   "execution_count": 52,
   "metadata": {},
   "outputs": [],
   "source": [
    "# divide data into train and test\n",
    "y = df['churn_probability']\n",
    "X = df.drop(\"churn_probability\", axis = 1)"
   ]
  },
  {
   "cell_type": "code",
   "execution_count": 53,
   "metadata": {},
   "outputs": [],
   "source": [
    "X_train, X_test, y_train, y_test = train_test_split(X, y, test_size = 0.1, random_state = 23, stratify = y)"
   ]
  },
  {
   "cell_type": "code",
   "execution_count": 54,
   "metadata": {},
   "outputs": [],
   "source": [
    "from imblearn.over_sampling import SMOTE\n",
    "oversample = SMOTE()\n",
    "# X_train, y_train = oversample.fit_resample(X_train, y_train)"
   ]
  },
  {
   "cell_type": "code",
   "execution_count": 55,
   "metadata": {},
   "outputs": [
    {
     "name": "stdout",
     "output_type": "stream",
     "text": [
      "(62999, 168) (62999,) (7000, 168) (7000,)\n"
     ]
    }
   ],
   "source": [
    "print(X_train.shape, y_train.shape, X_test.shape, y_test.shape)"
   ]
  },
  {
   "cell_type": "code",
   "execution_count": 56,
   "metadata": {},
   "outputs": [
    {
     "name": "stdout",
     "output_type": "stream",
     "text": [
      " 1:  55.8511\n",
      " 2:  73.8783\n",
      " 3:  80.5539\n",
      " 4:  86.1554\n",
      " 5:  90.2485\n",
      " 6:  93.9379\n",
      " 7:  95.1188\n",
      " 8:  96.1297\n",
      " 9:  96.9149\n",
      " 10:  97.5583\n",
      " 11:  98.1516\n",
      " 12:  98.6631\n",
      " 13:  98.9877\n",
      " 14:  99.2314\n",
      " 15:  99.3504\n",
      " 16:  99.4660\n",
      " 17:  99.5743\n",
      " 18:  99.6641\n",
      " 19:  99.7226\n",
      " 20:  99.7580\n",
      " 21:  99.7835\n",
      " 22:  99.8082\n",
      " 23:  99.8273\n",
      " 24:  99.8450\n",
      " 25:  99.8620\n",
      " 26:  99.8742\n",
      " 27:  99.8844\n",
      " 28:  99.8935\n",
      " 29:  99.9020\n",
      " 30:  99.9100\n",
      " 31:  99.9167\n",
      " 32:  99.9223\n",
      " 33:  99.9272\n",
      " 34:  99.9320\n",
      " 35:  99.9363\n",
      " 36:  99.9403\n",
      " 37:  99.9436\n",
      " 38:  99.9469\n",
      " 39:  99.9498\n",
      " 40:  99.9528\n",
      " 41:  99.9556\n",
      " 42:  99.9583\n",
      " 43:  99.9610\n",
      " 44:  99.9637\n",
      " 45:  99.9662\n",
      " 46:  99.9686\n",
      " 47:  99.9709\n",
      " 48:  99.9731\n",
      " 49:  99.9751\n",
      " 50:  99.9766\n",
      " 51:  99.9782\n",
      " 52:  99.9794\n",
      " 53:  99.9806\n",
      " 54:  99.9818\n",
      " 55:  99.9829\n",
      " 56:  99.9839\n",
      " 57:  99.9850\n",
      " 58:  99.9860\n",
      " 59:  99.9869\n",
      " 60:  99.9877\n",
      " 61:  99.9886\n",
      " 62:  99.9894\n",
      " 63:  99.9902\n",
      " 64:  99.9909\n",
      " 65:  99.9915\n",
      " 66:  99.9921\n",
      " 67:  99.9926\n",
      " 68:  99.9931\n",
      " 69:  99.9935\n",
      " 70:  99.9939\n",
      " 71:  99.9943\n",
      " 72:  99.9947\n",
      " 73:  99.9950\n",
      " 74:  99.9954\n",
      " 75:  99.9957\n",
      " 76:  99.9960\n",
      " 77:  99.9963\n",
      " 78:  99.9966\n",
      " 79:  99.9968\n",
      " 80:  99.9970\n",
      " 81:  99.9972\n",
      " 82:  99.9974\n",
      " 83:  99.9975\n",
      " 84:  99.9977\n",
      " 85:  99.9978\n",
      " 86:  99.9980\n",
      " 87:  99.9981\n",
      " 88:  99.9982\n",
      " 89:  99.9983\n",
      " 90:  99.9984\n",
      " 91:  99.9985\n",
      " 92:  99.9986\n",
      " 93:  99.9986\n",
      " 94:  99.9987\n",
      " 95:  99.9988\n",
      " 96:  99.9988\n",
      " 97:  99.9989\n",
      " 98:  99.9990\n",
      " 99:  99.9990\n",
      " 100:  99.9991\n",
      " 101:  99.9991\n",
      " 102:  99.9992\n",
      " 103:  99.9992\n",
      " 104:  99.9993\n",
      " 105:  99.9993\n",
      " 106:  99.9994\n",
      " 107:  99.9994\n",
      " 108:  99.9994\n",
      " 109:  99.9995\n",
      " 110:  99.9995\n",
      " 111:  99.9995\n",
      " 112:  99.9996\n",
      " 113:  99.9996\n",
      " 114:  99.9996\n",
      " 115:  99.9996\n",
      " 116:  99.9996\n",
      " 117:  99.9997\n",
      " 118:  99.9997\n",
      " 119:  99.9997\n",
      " 120:  99.9997\n",
      " 121:  99.9997\n",
      " 122:  99.9997\n",
      " 123:  99.9998\n",
      " 124:  99.9998\n",
      " 125:  99.9998\n",
      " 126:  99.9998\n",
      " 127:  99.9998\n",
      " 128:  99.9998\n",
      " 129:  99.9998\n",
      " 130:  99.9999\n",
      " 131:  99.9999\n",
      " 132:  99.9999\n",
      " 133:  99.9999\n",
      " 134:  99.9999\n",
      " 135:  99.9999\n",
      " 136:  99.9999\n",
      " 137:  99.9999\n",
      " 138:  99.9999\n",
      " 139:  99.9999\n",
      " 140:  99.9999\n",
      " 141:  99.9999\n",
      " 142:  99.9999\n",
      " 143:  99.9999\n",
      " 144:  100.0000\n",
      " 145:  100.0000\n",
      " 146:  100.0000\n",
      " 147:  100.0000\n",
      " 148:  100.0000\n",
      " 149:  100.0000\n",
      " 150:  100.0000\n",
      " 151:  100.0000\n",
      " 152:  100.0000\n",
      " 153:  100.0000\n",
      " 154:  100.0000\n",
      " 155:  100.0000\n",
      " 156:  100.0000\n",
      " 157:  100.0000\n",
      " 158:  100.0000\n",
      " 159:  100.0000\n",
      " 160:  100.0000\n",
      " 161:  100.0000\n",
      " 162:  100.0000\n",
      " 163:  100.0000\n",
      " 164:  100.0000\n",
      " 165:  100.0000\n",
      " 166:  100.0000\n",
      " 167:  100.0000\n",
      " 168:  100.0000\n"
     ]
    }
   ],
   "source": [
    "# scaler = RobustScaler()\n",
    "scaler = RobustScaler()\n",
    "scaler.fit(X_train)\n",
    "X_train_sc = scaler.transform(X_train)\n",
    "X_test_sc = scaler.transform(X_test)\n",
    "pca = PCA()\n",
    "pca.fit(X_train_sc)\n",
    "i = 0\n",
    "for ev in pca.explained_variance_ratio_.cumsum():\n",
    "    print(f' {i+1}:  {ev*100.:.4f}')\n",
    "    i+=1\n"
   ]
  },
  {
   "cell_type": "code",
   "execution_count": null,
   "metadata": {},
   "outputs": [],
   "source": [
    "\n"
   ]
  },
  {
   "cell_type": "code",
   "execution_count": 57,
   "metadata": {},
   "outputs": [
    {
     "data": {
      "text/plain": [
       "PCA(n_components=100, random_state=23)"
      ]
     },
     "execution_count": 57,
     "metadata": {},
     "output_type": "execute_result"
    }
   ],
   "source": [
    "finpca = PCA(100, random_state=23)\n",
    "finpca.fit(X_train_sc)"
   ]
  },
  {
   "cell_type": "code",
   "execution_count": 58,
   "metadata": {},
   "outputs": [
    {
     "name": "stdout",
     "output_type": "stream",
     "text": [
      "(62999, 168) (62999,) (7000, 168) (7000,)\n",
      "(62999, 100) (62999,) (7000, 100) (7000,)\n"
     ]
    }
   ],
   "source": [
    "X_train_pca = finpca.transform(X_train_sc)\n",
    "X_test_pca = finpca.transform(X_test_sc)\n",
    "print(X_train.shape, y_train.shape, X_test.shape, y_test.shape)\n",
    "print(X_train_pca.shape, y_train.shape, X_test_pca.shape, y_test.shape)"
   ]
  },
  {
   "cell_type": "code",
   "execution_count": 59,
   "metadata": {},
   "outputs": [],
   "source": [
    "def show_results(mdl,xtrn, ytrn, xtest, ytest):\n",
    "    print(f'Train Score: {mdl.score(xtrn, ytrn):.4f} Test: {mdl.score(xtest, ytest):.4f}', )\n",
    "    _y_pred = mdl.predict(xtest)\n",
    "    print(confusion_matrix(ytest, _y_pred))\n",
    "    print(classification_report(ytest, _y_pred, target_names=['Churn', 'No Churn']))\n",
    "    \n",
    "def predict_test(dfin, mdl, scl=None, ipca=None, csvf=\"rfpreds.csv\"):\n",
    "    dfc = dfin.copy()\n",
    "    if scl:\n",
    "        print(f\"Scaling\")\n",
    "        dfc = scl.transform(dfc)\n",
    "    if ipca:\n",
    "        print(\"PCA\")\n",
    "        dfc = ipca.transform(dfc)\n",
    "    preds = mdl.predict(dfc)\n",
    "    _dfr1 = pd.DataFrame()\n",
    "    _dfr1['id'] = dftid['id']\n",
    "    _dfr1['churn_probability'] = preds\n",
    "    print(_dfr1['churn_probability'].value_counts() / _dfr1.shape[0])\n",
    "    _dfr1.to_csv(csvf, index=False)\n",
    "    return preds"
   ]
  },
  {
   "cell_type": "code",
   "execution_count": 61,
   "metadata": {},
   "outputs": [
    {
     "name": "stdout",
     "output_type": "stream",
     "text": [
      "Train Score: 0.9998 Test: 0.9420\n",
      "[[6098  189]\n",
      " [ 217  496]]\n",
      "              precision    recall  f1-score   support\n",
      "\n",
      "       Churn       0.97      0.97      0.97      6287\n",
      "    No Churn       0.72      0.70      0.71       713\n",
      "\n",
      "    accuracy                           0.94      7000\n",
      "   macro avg       0.84      0.83      0.84      7000\n",
      "weighted avg       0.94      0.94      0.94      7000\n",
      "\n",
      "0   0.9021\n",
      "1   0.0979\n",
      "Name: churn_probability, dtype: float64\n"
     ]
    }
   ],
   "source": [
    "from lightgbm import LGBMClassifier\n",
    "lgbc = LGBMClassifier(n_estimators=1200,\n",
    "                      boosting_type=\"goss\", \n",
    "                      max_depth = -1,\n",
    "                      learning_rate = 0.12,\n",
    "                      min_child_samples=5,\n",
    "                      class_weight = \"balanced\",\n",
    "                      subsample = 0.7,\n",
    "                      random_state = 23,\n",
    "                      n_jobs = N_JOBS\n",
    "                     )\n",
    "lgbc.fit(X_train, y_train) \n",
    "show_results(lgbc, X_train, y_train, X_test, y_test)\n",
    "plg = predict_test(dft, lgbc, csvf='lgpreds2.csv')"
   ]
  },
  {
   "cell_type": "code",
   "execution_count": 62,
   "metadata": {},
   "outputs": [
    {
     "name": "stderr",
     "output_type": "stream",
     "text": [
      "[Parallel(n_jobs=10)]: Using backend ThreadingBackend with 10 concurrent workers.\n",
      "[Parallel(n_jobs=10)]: Done  30 tasks      | elapsed:    1.6s\n",
      "[Parallel(n_jobs=10)]: Done 180 tasks      | elapsed:    9.2s\n",
      "[Parallel(n_jobs=10)]: Done 430 tasks      | elapsed:   21.7s\n",
      "[Parallel(n_jobs=10)]: Done 780 tasks      | elapsed:   39.3s\n",
      "[Parallel(n_jobs=10)]: Done 1000 out of 1000 | elapsed:   50.2s finished\n",
      "[Parallel(n_jobs=10)]: Using backend ThreadingBackend with 10 concurrent workers.\n",
      "[Parallel(n_jobs=10)]: Done  30 tasks      | elapsed:    0.0s\n",
      "[Parallel(n_jobs=10)]: Done 180 tasks      | elapsed:    0.1s\n",
      "[Parallel(n_jobs=10)]: Done 430 tasks      | elapsed:    0.4s\n",
      "[Parallel(n_jobs=10)]: Done 780 tasks      | elapsed:    0.7s\n",
      "[Parallel(n_jobs=10)]: Done 1000 out of 1000 | elapsed:    0.9s finished\n",
      "[Parallel(n_jobs=10)]: Using backend ThreadingBackend with 10 concurrent workers.\n",
      "[Parallel(n_jobs=10)]: Done  30 tasks      | elapsed:    0.0s\n",
      "[Parallel(n_jobs=10)]: Done 180 tasks      | elapsed:    0.0s\n",
      "[Parallel(n_jobs=10)]: Done 430 tasks      | elapsed:    0.4s\n",
      "[Parallel(n_jobs=10)]: Done 780 tasks      | elapsed:    0.9s\n",
      "[Parallel(n_jobs=10)]: Done 1000 out of 1000 | elapsed:    1.3s finished\n",
      "[Parallel(n_jobs=10)]: Using backend ThreadingBackend with 10 concurrent workers.\n",
      "[Parallel(n_jobs=10)]: Done  30 tasks      | elapsed:    0.0s\n"
     ]
    },
    {
     "name": "stdout",
     "output_type": "stream",
     "text": [
      "Train Score: 0.9601 Test: 0.9049\n"
     ]
    },
    {
     "name": "stderr",
     "output_type": "stream",
     "text": [
      "[Parallel(n_jobs=10)]: Done 180 tasks      | elapsed:    0.2s\n",
      "[Parallel(n_jobs=10)]: Done 430 tasks      | elapsed:    0.6s\n",
      "[Parallel(n_jobs=10)]: Done 780 tasks      | elapsed:    1.2s\n"
     ]
    },
    {
     "name": "stdout",
     "output_type": "stream",
     "text": [
      "[[5937  350]\n",
      " [ 316  397]]\n",
      "              precision    recall  f1-score   support\n",
      "\n",
      "       Churn       0.95      0.94      0.95      6287\n",
      "    No Churn       0.53      0.56      0.54       713\n",
      "\n",
      "    accuracy                           0.90      7000\n",
      "   macro avg       0.74      0.75      0.75      7000\n",
      "weighted avg       0.91      0.90      0.91      7000\n",
      "\n"
     ]
    },
    {
     "name": "stderr",
     "output_type": "stream",
     "text": [
      "[Parallel(n_jobs=10)]: Done 1000 out of 1000 | elapsed:    1.5s finished\n"
     ]
    }
   ],
   "source": [
    "rfc = RandomForestClassifier(n_estimators=1000, \n",
    "                             max_depth=15, class_weight=\"balanced\",\n",
    "                             min_samples_leaf=5,\n",
    "                             random_state=23, \n",
    "                             n_jobs=N_JOBS,\n",
    "                             verbose=1)\n",
    "rfc.fit(X_train_pca, y_train)\n",
    "show_results(rfc, X_train_pca, y_train, X_test_pca, y_test)\n"
   ]
  },
  {
   "cell_type": "code",
   "execution_count": 63,
   "metadata": {},
   "outputs": [
    {
     "name": "stderr",
     "output_type": "stream",
     "text": [
      "[Parallel(n_jobs=10)]: Using backend ThreadingBackend with 10 concurrent workers.\n",
      "[Parallel(n_jobs=10)]: Done  30 tasks      | elapsed:    1.3s\n",
      "[Parallel(n_jobs=10)]: Done 180 tasks      | elapsed:    6.8s\n",
      "[Parallel(n_jobs=10)]: Done 430 tasks      | elapsed:   15.9s\n",
      "[Parallel(n_jobs=10)]: Done 780 tasks      | elapsed:   28.4s\n",
      "[Parallel(n_jobs=10)]: Done 1000 out of 1000 | elapsed:   36.3s finished\n",
      "[Parallel(n_jobs=10)]: Using backend ThreadingBackend with 10 concurrent workers.\n",
      "[Parallel(n_jobs=10)]: Done  30 tasks      | elapsed:    0.0s\n",
      "[Parallel(n_jobs=10)]: Done 180 tasks      | elapsed:    0.3s\n",
      "[Parallel(n_jobs=10)]: Done 430 tasks      | elapsed:    0.7s\n",
      "[Parallel(n_jobs=10)]: Done 780 tasks      | elapsed:    1.3s\n",
      "[Parallel(n_jobs=10)]: Done 1000 out of 1000 | elapsed:    1.7s finished\n",
      "[Parallel(n_jobs=10)]: Using backend ThreadingBackend with 10 concurrent workers.\n",
      "[Parallel(n_jobs=10)]: Done  30 tasks      | elapsed:    0.0s\n",
      "[Parallel(n_jobs=10)]: Done 180 tasks      | elapsed:    0.2s\n",
      "[Parallel(n_jobs=10)]: Done 430 tasks      | elapsed:    0.7s\n",
      "[Parallel(n_jobs=10)]: Done 780 tasks      | elapsed:    1.5s\n",
      "[Parallel(n_jobs=10)]: Done 1000 out of 1000 | elapsed:    2.0s finished\n",
      "[Parallel(n_jobs=10)]: Using backend ThreadingBackend with 10 concurrent workers.\n",
      "[Parallel(n_jobs=10)]: Done  30 tasks      | elapsed:    0.0s\n"
     ]
    },
    {
     "name": "stdout",
     "output_type": "stream",
     "text": [
      "Train Score: 0.9697 Test: 0.9437\n"
     ]
    },
    {
     "name": "stderr",
     "output_type": "stream",
     "text": [
      "[Parallel(n_jobs=10)]: Done 180 tasks      | elapsed:    0.4s\n",
      "[Parallel(n_jobs=10)]: Done 430 tasks      | elapsed:    1.0s\n",
      "[Parallel(n_jobs=10)]: Done 780 tasks      | elapsed:    1.8s\n"
     ]
    },
    {
     "name": "stdout",
     "output_type": "stream",
     "text": [
      "[[6082  205]\n",
      " [ 189  524]]\n",
      "              precision    recall  f1-score   support\n",
      "\n",
      "       Churn       0.97      0.97      0.97      6287\n",
      "    No Churn       0.72      0.73      0.73       713\n",
      "\n",
      "    accuracy                           0.94      7000\n",
      "   macro avg       0.84      0.85      0.85      7000\n",
      "weighted avg       0.94      0.94      0.94      7000\n",
      "\n"
     ]
    },
    {
     "name": "stderr",
     "output_type": "stream",
     "text": [
      "[Parallel(n_jobs=10)]: Done 1000 out of 1000 | elapsed:    2.2s finished\n"
     ]
    }
   ],
   "source": [
    "rfca = RandomForestClassifier(n_estimators=1000, \n",
    "                             max_depth=21, class_weight=\"balanced_subsample\",\n",
    "                             min_samples_leaf=7,\n",
    "                             random_state=23, \n",
    "                             n_jobs=N_JOBS,\n",
    "                             verbose=1)\n",
    "rfca.fit(X_train, y_train)\n",
    "show_results(rfca, X_train, y_train, X_test, y_test)\n"
   ]
  },
  {
   "cell_type": "code",
   "execution_count": null,
   "metadata": {},
   "outputs": [],
   "source": [
    "p = predict_test(dft, rfca, csvf='rfpreds3.csv')"
   ]
  },
  {
   "cell_type": "code",
   "execution_count": 64,
   "metadata": {},
   "outputs": [
    {
     "name": "stderr",
     "output_type": "stream",
     "text": [
      "[Parallel(n_jobs=10)]: Using backend ThreadingBackend with 10 concurrent workers.\n"
     ]
    },
    {
     "name": "stdout",
     "output_type": "stream",
     "text": [
      "max_iter reached after 16 seconds\n",
      "Train Score: 0.8604 Test: 0.8623\n",
      "[[5451  836]\n",
      " [ 128  585]]\n",
      "              precision    recall  f1-score   support\n",
      "\n",
      "       Churn       0.98      0.87      0.92      6287\n",
      "    No Churn       0.41      0.82      0.55       713\n",
      "\n",
      "    accuracy                           0.86      7000\n",
      "   macro avg       0.69      0.84      0.73      7000\n",
      "weighted avg       0.92      0.86      0.88      7000\n",
      "\n"
     ]
    },
    {
     "name": "stderr",
     "output_type": "stream",
     "text": [
      "[Parallel(n_jobs=10)]: Done   1 out of   1 | elapsed:   15.7s finished\n"
     ]
    }
   ],
   "source": [
    "lc = LogisticRegression(penalty=\"elasticnet\", \n",
    "                        class_weight=\"balanced\",\n",
    "                        solver=\"saga\",\n",
    "                        l1_ratio=0.5,\n",
    "                        random_state=23, \n",
    "                        n_jobs=N_JOBS,\n",
    "                        verbose=1\n",
    "                       )\n",
    "lc.fit(X_train, y_train)\n",
    "show_results(lc, X_train, y_train, X_test, y_test)"
   ]
  },
  {
   "cell_type": "code",
   "execution_count": 68,
   "metadata": {},
   "outputs": [
    {
     "name": "stderr",
     "output_type": "stream",
     "text": [
      "[Parallel(n_jobs=10)]: Using backend ThreadingBackend with 10 concurrent workers.\n",
      "[Parallel(n_jobs=10)]: Done  30 tasks      | elapsed:    0.5s\n",
      "[Parallel(n_jobs=10)]: Done 180 tasks      | elapsed:    3.0s\n",
      "[Parallel(n_jobs=10)]: Done 430 tasks      | elapsed:    7.1s\n",
      "[Parallel(n_jobs=10)]: Done 780 tasks      | elapsed:   13.1s\n",
      "[Parallel(n_jobs=10)]: Done 1150 out of 1150 | elapsed:   19.2s finished\n",
      "[Parallel(n_jobs=10)]: Using backend ThreadingBackend with 10 concurrent workers.\n",
      "[Parallel(n_jobs=10)]: Done  30 tasks      | elapsed:    0.0s\n",
      "[Parallel(n_jobs=10)]: Done 180 tasks      | elapsed:    0.3s\n",
      "[Parallel(n_jobs=10)]: Done 430 tasks      | elapsed:    0.7s\n",
      "[Parallel(n_jobs=10)]: Done 780 tasks      | elapsed:    1.4s\n",
      "[Parallel(n_jobs=10)]: Done 1150 out of 1150 | elapsed:    2.1s finished\n",
      "[Parallel(n_jobs=10)]: Using backend ThreadingBackend with 10 concurrent workers.\n",
      "[Parallel(n_jobs=10)]: Done  30 tasks      | elapsed:    0.0s\n",
      "[Parallel(n_jobs=10)]: Done 180 tasks      | elapsed:    0.2s\n",
      "[Parallel(n_jobs=10)]: Done 430 tasks      | elapsed:    0.8s\n",
      "[Parallel(n_jobs=10)]: Done 780 tasks      | elapsed:    1.7s\n",
      "[Parallel(n_jobs=10)]: Done 1150 out of 1150 | elapsed:    2.6s finished\n",
      "[Parallel(n_jobs=10)]: Using backend ThreadingBackend with 10 concurrent workers.\n",
      "[Parallel(n_jobs=10)]: Done  30 tasks      | elapsed:    0.0s\n"
     ]
    },
    {
     "name": "stdout",
     "output_type": "stream",
     "text": [
      "Train Score: 0.9389 Test: 0.9164\n"
     ]
    },
    {
     "name": "stderr",
     "output_type": "stream",
     "text": [
      "[Parallel(n_jobs=10)]: Done 180 tasks      | elapsed:    0.4s\n",
      "[Parallel(n_jobs=10)]: Done 430 tasks      | elapsed:    1.0s\n",
      "[Parallel(n_jobs=10)]: Done 780 tasks      | elapsed:    1.8s\n"
     ]
    },
    {
     "name": "stdout",
     "output_type": "stream",
     "text": [
      "[[5858  429]\n",
      " [ 156  557]]\n",
      "              precision    recall  f1-score   support\n",
      "\n",
      "       Churn       0.97      0.93      0.95      6287\n",
      "    No Churn       0.56      0.78      0.66       713\n",
      "\n",
      "    accuracy                           0.92      7000\n",
      "   macro avg       0.77      0.86      0.80      7000\n",
      "weighted avg       0.93      0.92      0.92      7000\n",
      "\n"
     ]
    },
    {
     "name": "stderr",
     "output_type": "stream",
     "text": [
      "[Parallel(n_jobs=10)]: Done 1150 out of 1150 | elapsed:    2.4s finished\n"
     ]
    }
   ],
   "source": [
    "etca = ExtraTreesClassifier(n_estimators=1150, \n",
    "                             max_depth=20, class_weight=\"balanced\",\n",
    "                             min_samples_leaf=4,\n",
    "                             random_state=23, \n",
    "                             n_jobs=N_JOBS,\n",
    "                             verbose=1)\n",
    "etca.fit(X_train, y_train)\n",
    "show_results(etca, X_train, y_train, X_test, y_test)\n"
   ]
  },
  {
   "cell_type": "code",
   "execution_count": null,
   "metadata": {},
   "outputs": [],
   "source": [
    "# gbc = GradientBoostingClassifier(n_estimators=500, learning_rate=0.05,\n",
    "#                                  max_depth=5,min_samples_leaf=5,subsample=0.8,\n",
    "#                                  random_state=23, verbose=1)\n",
    "# gbc.fit(X_train, y_train)\n",
    "# show_results(gbc, X_train, y_train, X_test, y_test)\n",
    "# print(gbc.score(X_train, y_train), gbc.score(X_test, y_test))\n",
    "# y_pred = gbc.predict(X_test)\n",
    "# confusion_matrix(y_test, y_pred)"
   ]
  },
  {
   "cell_type": "code",
   "execution_count": null,
   "metadata": {},
   "outputs": [],
   "source": []
  }
 ],
 "metadata": {
  "kernelspec": {
   "display_name": "Python 3",
   "language": "python",
   "name": "python3"
  },
  "language_info": {
   "codemirror_mode": {
    "name": "ipython",
    "version": 3
   },
   "file_extension": ".py",
   "mimetype": "text/x-python",
   "name": "python",
   "nbconvert_exporter": "python",
   "pygments_lexer": "ipython3",
   "version": "3.8.3"
  }
 },
 "nbformat": 4,
 "nbformat_minor": 4
}
